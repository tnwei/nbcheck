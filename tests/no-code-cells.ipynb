{
 "cells": [
  {
   "cell_type": "markdown",
   "metadata": {},
   "source": [
    "Four score and seven years ago our fathers brought forth on this continent, a new nation, conceived in Liberty,"
   ]
  },
  {
   "cell_type": "markdown",
   "metadata": {},
   "source": [
    "and dedicated to the proposition that all men are created equal."
   ]
  },
  {
   "cell_type": "markdown",
   "metadata": {},
   "source": [
    "Now we are engaged in a great civil war, testing whether that nation, or any nation so conceived and so dedicated,"
   ]
  },
  {
   "cell_type": "markdown",
   "metadata": {},
   "source": [
    "can long endure. We are met on a great battle-field of that war. We have come to dedicate a portion of that"
   ]
  },
  {
   "cell_type": "markdown",
   "metadata": {},
   "source": [
    "field, as a final resting place for those who here gave their lives that that nation might live. It is"
   ]
  },
  {
   "cell_type": "markdown",
   "metadata": {},
   "source": [
    "altogether fitting and proper that we should do this."
   ]
  },
  {
   "cell_type": "markdown",
   "metadata": {},
   "source": [
    "But, in a larger sense, we can not dedicate -- we can not consecrate -- we can not hallow -- this ground."
   ]
  },
  {
   "cell_type": "markdown",
   "metadata": {},
   "source": [
    "The brave men, living and dead, who struggled here, have consecrated it, far above our poor power to add or detract."
   ]
  },
  {
   "cell_type": "markdown",
   "metadata": {},
   "source": [
    "The world will little note, nor long remember what we say here, but it can never forget what they did here."
   ]
  },
  {
   "cell_type": "markdown",
   "metadata": {},
   "source": [
    "It is for us the living, rather, to be dedicated here to the unfinished work which they who fought here have"
   ]
  },
  {
   "cell_type": "markdown",
   "metadata": {},
   "source": [
    "thus far so nobly advanced. It is rather for us to be here dedicated to the great task remaining before us --"
   ]
  },
  {
   "cell_type": "markdown",
   "metadata": {},
   "source": [
    "that from these honored dead we take increased devotion to that cause for which they gave the last full measure"
   ]
  },
  {
   "cell_type": "markdown",
   "metadata": {},
   "source": [
    "of devotion -- that we here highly resolve that these dead shall not have died in vain -- that this nation,"
   ]
  },
  {
   "cell_type": "markdown",
   "metadata": {},
   "source": [
    "under God, shall have a new birth of freedom -- and that government of the people, by the people, for the people,"
   ]
  },
  {
   "cell_type": "markdown",
   "metadata": {},
   "source": [
    "shall not perish from the earth."
   ]
  }
 ],
 "metadata": {
  "kernelspec": {
   "display_name": "Python 3",
   "language": "python",
   "name": "python3"
  },
  "language_info": {
   "codemirror_mode": {
    "name": "ipython",
    "version": 3
   },
   "file_extension": ".py",
   "mimetype": "text/x-python",
   "name": "python",
   "nbconvert_exporter": "python",
   "pygments_lexer": "ipython3",
   "version": "3.7.6"
  },
  "widgets": {
   "application/vnd.jupyter.widget-state+json": {
    "state": {},
    "version_major": 2,
    "version_minor": 0
   }
  }
 },
 "nbformat": 4,
 "nbformat_minor": 4
}
